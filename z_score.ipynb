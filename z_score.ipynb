import numpy as np 
import pandas as pd
import scipy.stats as stats

def Z_score(p):
    return(print("z0-value = ",stats.norm.ppf(p)))
  
def chisq_score(p, alpha):
    return(print("\n z0-value   = ",stats.chi.ppf(p, alpha)))
  

def t_score(p, alpha):
      return(print("\n z0-value  = ",stats.t.ppf(p,alpha)))


def f_score(p, df1, df2):
      return(print("\n z0-value  = ",stats.f.ppf(p,df1 , df2)))

Z_score(0.9750021)
chisq_score(0.9499565,1)
t_score(0.9903284,25)
f_score(0.7400733, 3, 2)
