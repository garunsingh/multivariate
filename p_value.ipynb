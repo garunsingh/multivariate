import numpy as np 
import pandas as pd
import scipy.stats as stats

def Zprob(z0):
    return(print('p-value of z normal distribution = ',stats.norm.cdf(z0)))


def chiprob(z0, alpha):
      return(print('\np-value of chisquare  = ',stats.chi.cdf(z0, alpha)))

def tprob(z0, alpha):
        return(print('\np-value of t distribution = ',stats.t.cdf(z0,alpha)))


def fprob(q,df1, df2):
      return(print('\np-value of f distribution = ',stats.f.cdf(q,df1 , df2)))


Zprob(1.96)
chiprob(3.84,1)
tprob(2.50, 25)
fprob(3,3,2)
